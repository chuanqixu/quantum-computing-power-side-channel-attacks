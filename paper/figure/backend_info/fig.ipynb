{
 "cells": [
  {
   "cell_type": "code",
   "execution_count": 1,
   "metadata": {},
   "outputs": [],
   "source": [
    "from qcutils.credential import load_provider\n",
    "from qiskit import QuantumCircuit, transpile, schedule\n",
    "import matplotlib.pyplot as plt\n",
    "\n",
    "\n",
    "provider = load_provider()\n",
    "backend = provider.get_backend(\"ibm_lagos\")"
   ]
  },
  {
   "cell_type": "code",
   "execution_count": 38,
   "metadata": {},
   "outputs": [],
   "source": [
    "sx = QuantumCircuit(1, name=\"SX\")\n",
    "sx.sx(0)\n",
    "sx_pulse = schedule(sx, backend).draw()\n",
    "sx_pulse.set_size_inches(5, 3)\n",
    "sx_pulse.tight_layout()\n",
    "sx_pulse.savefig(\"./sx_pulse.pdf\")"
   ]
  },
  {
   "cell_type": "code",
   "execution_count": 32,
   "metadata": {},
   "outputs": [],
   "source": [
    "x = QuantumCircuit(1, name=\"X\")\n",
    "x.x(0)\n",
    "x_pulse = schedule(x, backend).draw()\n",
    "x_pulse.set_size_inches(5, 3)\n",
    "x_pulse.tight_layout()\n",
    "x_pulse.savefig(\"./x_pulse.pdf\")"
   ]
  },
  {
   "cell_type": "code",
   "execution_count": 37,
   "metadata": {},
   "outputs": [],
   "source": [
    "cx = QuantumCircuit(2, name=\"CX\")\n",
    "cx.cx(0, 1)\n",
    "cx_pulse = schedule(cx, backend).draw()\n",
    "cx_pulse.set_size_inches(10, 5)\n",
    "cx_pulse.tight_layout()\n",
    "cx_pulse.savefig(\"./cx_pulse.pdf\")"
   ]
  },
  {
   "cell_type": "code",
   "execution_count": null,
   "metadata": {},
   "outputs": [],
   "source": []
  }
 ],
 "metadata": {
  "kernelspec": {
   "display_name": "qiskit",
   "language": "python",
   "name": "python3"
  },
  "language_info": {
   "codemirror_mode": {
    "name": "ipython",
    "version": 3
   },
   "file_extension": ".py",
   "mimetype": "text/x-python",
   "name": "python",
   "nbconvert_exporter": "python",
   "pygments_lexer": "ipython3",
   "version": "3.10.0"
  },
  "orig_nbformat": 4
 },
 "nbformat": 4,
 "nbformat_minor": 2
}
