{
 "cells": [
  {
   "cell_type": "code",
   "execution_count": 1,
   "metadata": {},
   "outputs": [],
   "source": [
    "from qcutils.credential import load_provider\n",
    "from qcutils.benchmarks import QASMBenchmark\n",
    "from qcutils.pulse import CircAmpTimeSeries, BasisPulse\n",
    "from qcutils.pulse import CircAmpTimeSeries\n",
    "from qcutils.pulse.amptimeseries.metric import dist, min_circ_dist_in_list\n",
    "from qcutils.circuit.library import deutsch_jozsa, bernstein_vazirani, grover\n",
    "\n",
    "from qiskit import transpile\n",
    "\n",
    "\n",
    "provider = load_provider()\n",
    "backend = provider.get_backend(\"ibm_lagos\")\n",
    "\n",
    "bm = QASMBenchmark(r\"E:\\Research\\QASMBench\", \"small\", num_qubits_list=list(range(8)), remove_final_measurements=True, do_transpile=True, backend=backend, seed_transpiler=0)"
   ]
  },
  {
   "cell_type": "code",
   "execution_count": 4,
   "metadata": {},
   "outputs": [],
   "source": [
    "# save the current basis pulse library\n",
    "\n",
    "bp = BasisPulse(backend)\n",
    "bp.save_basis_amp_time_series_list(f\"./data/basis_pulse_{backend.configuration().backend_name}.pickle\")"
   ]
  },
  {
   "cell_type": "code",
   "execution_count": 2,
   "metadata": {},
   "outputs": [],
   "source": [
    "ansatz_name_list = [\"qaoa_n3\", \"variational_n4\", \"vqe_n4\", \"vqe_uccsd_n4\", \"qaoa_n6\", \"vqe_uccsd_n6\"]\n",
    "circ_list = bm.get(ansatz_name_list)"
   ]
  },
  {
   "cell_type": "code",
   "execution_count": 3,
   "metadata": {},
   "outputs": [
    {
     "name": "stdout",
     "output_type": "stream",
     "text": [
      "0.970\t\t(1, 2)\n"
     ]
    }
   ],
   "source": [
    "min_dist, min_idx_pair = min_circ_dist_in_list(circ_list, backend, normalize=True)\n",
    "print(f\"{min_dist:.3f}\\t\\t{min_idx_pair}\")"
   ]
  },
  {
   "cell_type": "code",
   "execution_count": null,
   "metadata": {},
   "outputs": [],
   "source": []
  }
 ],
 "metadata": {
  "kernelspec": {
   "display_name": "qiskit",
   "language": "python",
   "name": "python3"
  },
  "language_info": {
   "codemirror_mode": {
    "name": "ipython",
    "version": 3
   },
   "file_extension": ".py",
   "mimetype": "text/x-python",
   "name": "python",
   "nbconvert_exporter": "python",
   "pygments_lexer": "ipython3",
   "version": "3.10.0"
  },
  "orig_nbformat": 4
 },
 "nbformat": 4,
 "nbformat_minor": 2
}
