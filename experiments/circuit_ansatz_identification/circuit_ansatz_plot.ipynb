{
 "cells": [
  {
   "cell_type": "code",
   "execution_count": 1,
   "metadata": {},
   "outputs": [
    {
     "name": "stdout",
     "output_type": "stream",
     "text": [
      "\\documentclass[border=2px]{standalone}\n",
      "\n",
      "\\usepackage[braket, qm]{qcircuit}\n",
      "\\usepackage{graphicx}\n",
      "\n",
      "\\begin{document}\n",
      "\\scalebox{1.0}{\n",
      "\\Qcircuit @C=1.0em @R=0.2em @!R { \\\\\n",
      "\t \t\\nghost{{q}_{0} :  } & \\lstick{{q}_{0} :  } & \\gate{\\mathrm{H}} & \\ctrl{2} & \\qw & \\ctrl{2} & \\ctrl{1} & \\qw & \\qw & \\qw & \\ctrl{1} & \\gate{\\mathrm{R_X}\\,(\\mathrm{1.713})} & \\qw & \\qw & \\qw\\\\\n",
      "\t \t\\nghost{{q}_{1} :  } & \\lstick{{q}_{1} :  } & \\gate{\\mathrm{H}} & \\qw & \\qw & \\qw & \\targ & \\ctrl{1} & \\qw & \\ctrl{1} & \\targ & \\gate{\\mathrm{R_Z}\\,(\\mathrm{-16.96})} & \\gate{\\mathrm{R_X}\\,(\\mathrm{1.713})} & \\qw & \\qw\\\\\n",
      "\t \t\\nghost{{q}_{2} :  } & \\lstick{{q}_{2} :  } & \\gate{\\mathrm{H}} & \\targ & \\gate{\\mathrm{R_Z}\\,(\\mathrm{5.654})} & \\targ & \\qw & \\targ & \\gate{\\mathrm{R_Z}\\,(\\mathrm{-11.31})} & \\targ & \\gate{\\mathrm{R_X}\\,(\\mathrm{1.713})} & \\qw & \\qw & \\qw & \\qw\\\\\n",
      "\\\\ }}\n",
      "\\end{document}\n"
     ]
    }
   ],
   "source": [
    "from qcutils.credential import load_provider\n",
    "from qcutils.benchmarks import QASMBenchmark\n",
    "from qcutils.pulse import CircAmpTimeSeries, BasisPulse\n",
    "from qcutils.pulse import CircAmpTimeSeries\n",
    "from qcutils.pulse.amptimeseries.metric import dist, min_circ_dist_in_list\n",
    "from qcutils.circuit.library import deutsch_jozsa, bernstein_vazirani, grover\n",
    "\n",
    "from qiskit import transpile\n",
    "\n",
    "\n",
    "provider = load_provider()\n",
    "backend = provider.get_backend(\"ibm_lagos\")\n",
    "\n",
    "bm = QASMBenchmark(r\"E:\\Research\\QASMBench\", \"small\", num_qubits_list=list(range(8)), remove_final_measurements=True)\n",
    "print(bm[\"qaoa_n3\"].draw(\"latex_source\"))"
   ]
  },
  {
   "cell_type": "code",
   "execution_count": null,
   "metadata": {},
   "outputs": [],
   "source": []
  }
 ],
 "metadata": {
  "kernelspec": {
   "display_name": "qiskit",
   "language": "python",
   "name": "python3"
  },
  "language_info": {
   "codemirror_mode": {
    "name": "ipython",
    "version": 3
   },
   "file_extension": ".py",
   "mimetype": "text/x-python",
   "name": "python",
   "nbconvert_exporter": "python",
   "pygments_lexer": "ipython3",
   "version": "3.10.0"
  },
  "orig_nbformat": 4
 },
 "nbformat": 4,
 "nbformat_minor": 2
}
