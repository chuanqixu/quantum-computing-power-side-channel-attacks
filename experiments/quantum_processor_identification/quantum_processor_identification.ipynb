{
 "cells": [
  {
   "cell_type": "code",
   "execution_count": 4,
   "metadata": {},
   "outputs": [],
   "source": [
    "from qcutils.credential import load_provider\n",
    "from qcutils.benchmarks import QASMBenchmark\n",
    "from qcutils.pulse import CircAmpTimeSeries, BasisPulse\n",
    "from qcutils.pulse import CircAmpTimeSeries\n",
    "from qcutils.pulse.amptimeseries.metric import dist, norm\n",
    "from qcutils.circuit.library import deutsch_jozsa, bernstein_vazirani, grover\n",
    "\n",
    "from qiskit import transpile, schedule\n",
    "\n",
    "\n",
    "provider = load_provider()\n",
    "backend_list = provider.backends(simulator=False)\n",
    "\n",
    "bm = QASMBenchmark(r\"E:\\Research\\QASMBench\", \"small\", num_qubits_list=list(range(6)), remove_final_measurements=True, do_transpile=False)"
   ]
  },
  {
   "cell_type": "code",
   "execution_count": 9,
   "metadata": {},
   "outputs": [],
   "source": [
    "# save the current basis pulse library\n",
    "\n",
    "for backend in backend_list:\n",
    "    bp = BasisPulse(backend)\n",
    "    bp.save_basis_amp_time_series_list(f\"./data/basis_pulse_{backend.configuration().backend_name}.pickle\")"
   ]
  },
  {
   "cell_type": "code",
   "execution_count": 2,
   "metadata": {},
   "outputs": [],
   "source": [
    "def min_normalized_circ_total_dist_in_backend_list(circ, backend_list, **trasnpile_args):\n",
    "    import numpy as np\n",
    "    min_normalized_circ_total_dist = float(\"inf\")\n",
    "    for i, backend in enumerate(backend_list[:-1]):\n",
    "        total_a = CircAmpTimeSeries.from_circ(transpile(circ, backend, **trasnpile_args), backend).total()\n",
    "        total_b_list = [CircAmpTimeSeries.from_circ(transpile(circ, b, **trasnpile_args), b).total() for b in backend_list[i+1:]]\n",
    "        dist_list = [dist(total_a, total_b) for total_b in total_b_list]\n",
    "        min_dist_idx = np.argmin(dist_list)\n",
    "        curr_min = dist_list[min_dist_idx]\n",
    "        normalized_min_a = curr_min / norm(total_a)\n",
    "        normalized_min_b = curr_min / norm(total_b_list[min_dist_idx])\n",
    "        if normalized_min_a < min_normalized_circ_total_dist or normalized_min_b < min_normalized_circ_total_dist:\n",
    "            if normalized_min_a < normalized_min_b:\n",
    "                min_idx_pair = (i, i + 1 + min_dist_idx)\n",
    "                min_normalized_circ_total_dist = normalized_min_a\n",
    "            else:\n",
    "                min_idx_pair = (i + 1 + min_dist_idx, i)\n",
    "                min_normalized_circ_total_dist = normalized_min_b\n",
    "    return min_normalized_circ_total_dist, min_idx_pair\n",
    "\n",
    "\n",
    "def result(bm, backend_list, **transpile_args):\n",
    "    print(\"Benchmark\\t\\tMin CD (QP)\\tMin IDX Pair\")\n",
    "\n",
    "    for circ_name in bm.circ_name_list:\n",
    "        try:\n",
    "            min_dist, min_idx_pair = min_normalized_circ_total_dist_in_backend_list(bm.get(circ_name), backend_list, **transpile_args)\n",
    "            print(f\"{circ_name:<24}{min_dist:.3f}\\t\\t{min_idx_pair}\")\n",
    "        except:\n",
    "            continue"
   ]
  },
  {
   "cell_type": "code",
   "execution_count": 8,
   "metadata": {},
   "outputs": [
    {
     "name": "stdout",
     "output_type": "stream",
     "text": [
      "Benchmark\t\tMin CD (QP)\tMin IDX Pair\n",
      "deutsch_n2              0.116\t\t(2, 3)\n",
      "dnn_n2                  0.116\t\t(2, 3)\n",
      "grover_n2               0.116\t\t(2, 3)\n",
      "iswap_n2                0.116\t\t(2, 3)\n",
      "quantumwalks_n2         0.117\t\t(2, 3)\n",
      "basis_change_n3         0.889\t\t(0, 6)\n",
      "fredkin_n3              0.851\t\t(4, 6)\n",
      "linearsolver_n3         0.688\t\t(3, 2)\n",
      "qaoa_n3                 0.831\t\t(4, 6)\n",
      "teleportation_n3        0.580\t\t(3, 2)\n",
      "toffoli_n3              0.869\t\t(1, 6)\n",
      "wstate_n3               0.849\t\t(4, 5)\n",
      "adder_n4                0.743\t\t(7, 8)\n",
      "basis_trotter_n4        0.865\t\t(4, 5)\n",
      "bell_n4                 0.793\t\t(2, 5)\n",
      "cat_state_n4            0.776\t\t(4, 5)\n",
      "hs4_n4                  0.801\t\t(5, 6)\n",
      "inverseqft_n4           0.002\t\t(8, 6)\n",
      "qft_n4                  0.846\t\t(4, 6)\n",
      "qrng_n4                 0.002\t\t(8, 6)\n",
      "variational_n4          0.783\t\t(3, 8)\n",
      "vqe_n4                  0.808\t\t(2, 8)\n",
      "vqe_uccsd_n4            0.919\t\t(5, 6)\n",
      "error_correctiond3_n5   0.930\t\t(4, 5)\n",
      "lpn_n5                  0.315\t\t(0, 4)\n",
      "pea_n5                  0.864\t\t(4, 5)\n",
      "qec_en_n5               0.822\t\t(3, 5)\n",
      "qec_sm_n5               0.851\t\t(4, 5)\n"
     ]
    }
   ],
   "source": [
    "result(bm, backend_list, seed_transpiler=0)"
   ]
  },
  {
   "cell_type": "code",
   "execution_count": null,
   "metadata": {},
   "outputs": [],
   "source": []
  }
 ],
 "metadata": {
  "kernelspec": {
   "display_name": "qiskit",
   "language": "python",
   "name": "python3"
  },
  "language_info": {
   "codemirror_mode": {
    "name": "ipython",
    "version": 3
   },
   "file_extension": ".py",
   "mimetype": "text/x-python",
   "name": "python",
   "nbconvert_exporter": "python",
   "pygments_lexer": "ipython3",
   "version": "3.10.0"
  },
  "orig_nbformat": 4
 },
 "nbformat": 4,
 "nbformat_minor": 2
}
