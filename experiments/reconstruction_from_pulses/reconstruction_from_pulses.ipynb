{
 "cells": [
  {
   "cell_type": "code",
   "execution_count": 1,
   "metadata": {},
   "outputs": [],
   "source": [
    "from qcutils.credential import load_provider\n",
    "from qcutils.benchmarks import QASMBenchmark\n",
    "from qcutils.pulse import CircAmpTimeSeries, BasisPulse\n",
    "from qcutils.pulse.reconstruct import PerChannelReconstructor\n",
    "from qcutils.pulse import CircAmpTimeSeries\n",
    "from qcutils.pulse.amptimeseries.metric import dist\n",
    "\n",
    "\n",
    "provider = load_provider()\n",
    "backend = provider.get_backend(\"ibm_lagos\")\n",
    "\n",
    "bm = QASMBenchmark(r\"E:\\Research\\QASMBench\", \"small\", num_qubits_list=list(range(8)), remove_final_measurements=True, do_transpile=True, backend=backend, seed_transpiler=0)\n",
    "pcr = PerChannelReconstructor(backend, boundary=0.015, tolerance=5)"
   ]
  },
  {
   "cell_type": "code",
   "execution_count": 2,
   "metadata": {},
   "outputs": [],
   "source": [
    "# save the current basis pulse library\n",
    "\n",
    "bp = BasisPulse(backend)\n",
    "bp.save_basis_amp_time_series_list(\"./data/basis_pulse_ibm_lagos.pickle\")"
   ]
  },
  {
   "cell_type": "code",
   "execution_count": 3,
   "metadata": {},
   "outputs": [
    {
     "name": "stdout",
     "output_type": "stream",
     "text": [
      "Circuit Name\t\tDistance\n",
      "deutsch_n2              0.0     \n",
      "dnn_n2                  0.0     \n",
      "grover_n2               0.0     \n",
      "iswap_n2                0.0     \n",
      "quantumwalks_n2         0.0     \n",
      "basis_change_n3         0.0     \n",
      "fredkin_n3              0.0     \n",
      "linearsolver_n3         0.0     \n",
      "qaoa_n3                 1.59568552487684e-17\n",
      "teleportation_n3        2.317004281135315e-17\n",
      "toffoli_n3              1.369663781100833e-17\n",
      "wstate_n3               0.0     \n",
      "adder_n4                0.0     \n",
      "basis_trotter_n4        0.0     \n",
      "bell_n4                 0.0     \n",
      "cat_state_n4            0.0     \n",
      "hs4_n4                  0.0     \n",
      "inverseqft_n4           0.0     \n",
      "qft_n4                  2.1111414901514977e-18\n",
      "qrng_n4                 0.0     \n",
      "variational_n4          0.0     \n",
      "vqe_n4                  0.0     \n",
      "vqe_uccsd_n4            0.0     \n",
      "error_correctiond3_n5   1.805468250231759e-17\n",
      "lpn_n5                  0.0     \n",
      "pea_n5                  5.389500767558981e-19\n",
      "qec_en_n5               2.7853394978350715e-18\n",
      "qec_sm_n5               0.0     \n",
      "qaoa_n6                 0.0     \n",
      "simon_n6                9.884919636144942e-18\n",
      "vqe_uccsd_n6            0.0     \n",
      "hhl_n7                  5.532473229231791e-18\n"
     ]
    }
   ],
   "source": [
    "print(f\"Circuit Name\\t\\tDistance\")\n",
    "\n",
    "for circ_name, circ in zip(bm.circ_name_list, bm.circ_list):\n",
    "    try:\n",
    "        # total power traces from the original circuit\n",
    "        total_circ = CircAmpTimeSeries.from_circ(circ, backend, do_transpile=True, seed_transpiler=0).total()\n",
    "\n",
    "        # total power traces from the reconstructed circuit\n",
    "        total_reconstruct = pcr.get_reconstructed_total(circ)\n",
    "\n",
    "        # compute the distance between these two total power traces\n",
    "        metric = dist(total_circ, total_reconstruct, normalize=True)\n",
    "\n",
    "        # print result\n",
    "        print(f\"{circ_name:<24}{metric:<8}\", flush=True)\n",
    "    except:\n",
    "        continue"
   ]
  },
  {
   "cell_type": "code",
   "execution_count": null,
   "metadata": {},
   "outputs": [],
   "source": []
  }
 ],
 "metadata": {
  "kernelspec": {
   "display_name": "qiskit",
   "language": "python",
   "name": "python3"
  },
  "language_info": {
   "codemirror_mode": {
    "name": "ipython",
    "version": 3
   },
   "file_extension": ".py",
   "mimetype": "text/x-python",
   "name": "python",
   "nbconvert_exporter": "python",
   "pygments_lexer": "ipython3",
   "version": "3.10.0"
  },
  "orig_nbformat": 4,
  "vscode": {
   "interpreter": {
    "hash": "0254cfdbd1ec5eeb853fcb587bdc4d782f6ce52d6bf70367b9ef200c67b41767"
   }
  }
 },
 "nbformat": 4,
 "nbformat_minor": 2
}
