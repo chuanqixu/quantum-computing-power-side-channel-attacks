{
 "cells": [
  {
   "cell_type": "code",
   "execution_count": 1,
   "metadata": {},
   "outputs": [],
   "source": [
    "from qcutils.credential import load_provider\n",
    "from qcutils.benchmarks import QASMBenchmark\n",
    "from qcutils.pulse import CircAmpTimeSeries, BasisPulse\n",
    "from qcutils.pulse import CircAmpTimeSeries\n",
    "from qcutils.pulse.amptimeseries.metric import dist, norm\n",
    "\n",
    "from qiskit import transpile, schedule\n",
    "\n",
    "\n",
    "provider = load_provider()\n",
    "backend_list = provider.backends(simulator=False)\n",
    "\n",
    "bm = QASMBenchmark(r\"../../QASMBench\", \"small\", num_qubits_list=list(range(8)), remove_final_measurements=True, do_transpile=False)"
   ]
  },
  {
   "cell_type": "code",
   "execution_count": 4,
   "metadata": {},
   "outputs": [],
   "source": [
    "# save the current basis pulse library\n",
    "\n",
    "for backend in backend_list:\n",
    "    bp = BasisPulse(backend)\n",
    "    bp.save_basis_amp_time_series_list(f\"./data/basis_pulse_{backend.configuration().backend_name}.pickle\")"
   ]
  },
  {
   "cell_type": "code",
   "execution_count": 5,
   "metadata": {},
   "outputs": [],
   "source": [
    "def min_normalized_circ_dist_in_backend_list(circ, backend_list, **trasnpile_args):\n",
    "    import numpy as np\n",
    "    min_normalized_circ_dist = float(\"inf\")\n",
    "    circ_total_list = [CircAmpTimeSeries.from_circ(transpile(circ, b, **trasnpile_args), b).total() for b in backend_list]\n",
    "    for i, circ_total in enumerate(circ_total_list[:-1]):\n",
    "        dist_list = [dist(circ_total, total_b) for total_b in circ_total_list[i+1:]]\n",
    "        min_dist_idx = np.argmin(dist_list)\n",
    "        curr_min = dist_list[min_dist_idx]\n",
    "        normalized_min_a = curr_min / norm(circ_total)\n",
    "        normalized_min_b = curr_min / norm(circ_total_list[min_dist_idx])\n",
    "        if normalized_min_a < min_normalized_circ_dist or normalized_min_b < min_normalized_circ_dist:\n",
    "            if normalized_min_a < normalized_min_b:\n",
    "                min_idx_pair = (i, i + 1 + min_dist_idx)\n",
    "                min_normalized_circ_dist = normalized_min_a\n",
    "            else:\n",
    "                min_idx_pair = (i + 1 + min_dist_idx, i)\n",
    "                min_normalized_circ_dist = normalized_min_b\n",
    "    return min_normalized_circ_dist, min_idx_pair"
   ]
  },
  {
   "cell_type": "code",
   "execution_count": 6,
   "metadata": {},
   "outputs": [],
   "source": [
    "def result(bm, provider, **transpile_args):\n",
    "    print(\"Benchmark\\t\\tMin CD (QP)\\tMin IDX Pair\")\n",
    "\n",
    "    for circ_name in bm.circ_name_list:\n",
    "        num_qubits = bm.num_qubits(circ_name)\n",
    "        backend_list = provider.backends(simulator=False, filters=lambda b: b.configuration().n_qubits >= num_qubits)\n",
    "        try:\n",
    "            min_dist, min_idx_pair = min_normalized_circ_dist_in_backend_list(bm.get(circ_name), backend_list, **transpile_args)\n",
    "            print(f\"{circ_name:<24}{min_dist:.3f}\\t\\t{min_idx_pair}\")\n",
    "        except:\n",
    "            continue"
   ]
  },
  {
   "cell_type": "code",
   "execution_count": 7,
   "metadata": {},
   "outputs": [
    {
     "name": "stdout",
     "output_type": "stream",
     "text": [
      "Benchmark\t\tMin CD (QP)\tMin IDX Pair\n",
      "deutsch_n2              0.116\t\t(2, 3)\n",
      "dnn_n2                  0.116\t\t(2, 3)\n",
      "grover_n2               0.116\t\t(2, 3)\n",
      "iswap_n2                0.116\t\t(2, 3)\n",
      "quantumwalks_n2         0.117\t\t(2, 3)\n",
      "basis_change_n3         0.068\t\t(6, 1)\n",
      "fredkin_n3              0.411\t\t(4, 0)\n",
      "linearsolver_n3         0.080\t\t(6, 1)\n",
      "qaoa_n3                 0.570\t\t(6, 0)\n",
      "teleportation_n3        0.075\t\t(6, 1)\n",
      "toffoli_n3              0.573\t\t(6, 1)\n",
      "wstate_n3               0.101\t\t(6, 1)\n",
      "adder_n4                0.201\t\t(8, 7)\n",
      "basis_trotter_n4        0.220\t\t(7, 1)\n",
      "bell_n4                 0.196\t\t(7, 1)\n",
      "cat_state_n4            0.241\t\t(7, 1)\n",
      "hs4_n4                  0.327\t\t(7, 6)\n",
      "inverseqft_n4           0.001\t\t(8, 6)\n",
      "qft_n4                  0.287\t\t(7, 1)\n",
      "qrng_n4                 0.001\t\t(8, 6)\n",
      "variational_n4          0.239\t\t(7, 1)\n",
      "vqe_n4                  0.194\t\t(7, 1)\n",
      "vqe_uccsd_n4            0.241\t\t(7, 1)\n",
      "error_correctiond3_n5   0.220\t\t(7, 1)\n",
      "lpn_n5                  0.194\t\t(7, 4)\n",
      "pea_n5                  0.210\t\t(7, 1)\n",
      "qec_en_n5               0.250\t\t(7, 1)\n",
      "qec_sm_n5               0.266\t\t(7, 1)\n",
      "qaoa_n6                 0.283\t\t(4, 3)\n",
      "simon_n6                0.605\t\t(3, 0)\n",
      "vqe_uccsd_n6            0.278\t\t(3, 2)\n",
      "hhl_n7                  0.317\t\t(3, 2)\n"
     ]
    }
   ],
   "source": [
    "result(bm, provider, seed_transpiler=0)"
   ]
  },
  {
   "cell_type": "code",
   "execution_count": null,
   "metadata": {},
   "outputs": [],
   "source": []
  }
 ],
 "metadata": {
  "kernelspec": {
   "display_name": "qiskit",
   "language": "python",
   "name": "python3"
  },
  "language_info": {
   "codemirror_mode": {
    "name": "ipython",
    "version": 3
   },
   "file_extension": ".py",
   "mimetype": "text/x-python",
   "name": "python",
   "nbconvert_exporter": "python",
   "pygments_lexer": "ipython3",
   "version": "3.10.0"
  },
  "orig_nbformat": 4
 },
 "nbformat": 4,
 "nbformat_minor": 2
}
