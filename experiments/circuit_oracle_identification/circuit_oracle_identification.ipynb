{
 "cells": [
  {
   "cell_type": "code",
   "execution_count": 1,
   "metadata": {},
   "outputs": [],
   "source": [
    "from qcutils.credential import load_provider\n",
    "from qcutils.benchmarks import QASMBenchmark\n",
    "from qcutils.pulse import CircAmpTimeSeries, BasisPulse\n",
    "from qcutils.pulse import CircAmpTimeSeries\n",
    "from qcutils.pulse.amptimeseries.metric import dist, min_circ_dist_in_list\n",
    "from qcutils.circuit.library import deutsch_jozsa, bernstein_vazirani, grover\n",
    "\n",
    "from qiskit import transpile\n",
    "\n",
    "\n",
    "provider = load_provider()\n",
    "backend = provider.get_backend(\"ibm_lagos\")"
   ]
  },
  {
   "cell_type": "code",
   "execution_count": 6,
   "metadata": {},
   "outputs": [],
   "source": [
    "# save the current basis pulse library\n",
    "\n",
    "bp = BasisPulse(backend)\n",
    "bp.save_basis_amp_time_series_list(f\"./data/basis_pulse_{backend.configuration().backend_name}.pickle\")"
   ]
  },
  {
   "cell_type": "code",
   "execution_count": 2,
   "metadata": {},
   "outputs": [],
   "source": [
    "def generate_binary_numbers(n):\n",
    "    result = []\n",
    "    for i in range(2**n):\n",
    "        binary_str = bin(i)[2:]\n",
    "        binary_str = \"0\"*(n-len(binary_str)) + binary_str\n",
    "        result.append(binary_str)\n",
    "    return result\n",
    "\n",
    "def circ_list(algo, num_qubits, backend, **transpile_args):\n",
    "    if algo == \"dj\":\n",
    "        b_str_list = generate_binary_numbers(num_qubits - 1)\n",
    "        # function_type_list = [\"constant\", \"balanced\"]\n",
    "        # circ_list = [deutsch_jozsa(backend, num_qubits, qubits_list=range(num_qubits), function_type=function_type, b_str=b_str, measure=False) for function_type in function_type_list for b_str in b_str_list]\n",
    "        circ_list = [deutsch_jozsa(num_qubits, qubits_list=range(num_qubits), function_type=\"balanced\", b_str=b_str, measure=False) for b_str in b_str_list]\n",
    "    elif algo == \"bv\":\n",
    "        hidden_str_list = generate_binary_numbers(num_qubits - 1)\n",
    "        circ_list = [bernstein_vazirani(num_qubits, qubits_list=range(num_qubits), hidden_str=hidden_str, measure=False) for hidden_str in hidden_str_list]\n",
    "    elif algo == \"gs\":\n",
    "        search_state_list = generate_binary_numbers(num_qubits)\n",
    "        circ_list = [grover(num_qubits, qubits_list=range(num_qubits), search_state=search_state, measure=False) for search_state in search_state_list]\n",
    "    \n",
    "    transpiled_circ_list = transpile(circ_list, backend, initial_layout=range(num_qubits), **transpile_args)\n",
    "    return transpiled_circ_list\n",
    "\n",
    "def result(num_qubits_list, backend, algo_list = [\"bv\", \"dj\", \"gs\"], **transpile_args):\n",
    "    print(\"Algorithm\" + \"\\t\" * int(len(num_qubits_list)/2) + \"Number of Qubits\")\n",
    "    print(\"\\t\\t\" + \"\\t\".join([str(num_qubits) for num_qubits in num_qubits_list]))\n",
    "\n",
    "    for algo in algo_list:\n",
    "        min_dist_list = [min_circ_dist_in_list(circ_list(algo, num_qubits, backend, **transpile_args), backend, normalize=True)[0] for num_qubits in num_qubits_list]\n",
    "        print(f\"{algo}\\t\\t\" + \"\\t\".join([\"{:.3f}\".format(min_dist) for min_dist in min_dist_list]))"
   ]
  },
  {
   "cell_type": "code",
   "execution_count": 4,
   "metadata": {},
   "outputs": [
    {
     "name": "stdout",
     "output_type": "stream",
     "text": [
      "Algorithm\t\t\tNumber of Qubits\n",
      "\t\t2\t3\t4\t5\t6\t7\n",
      "bv\t\t0.999\t0.298\t0.074\t0.062\t0.068\t0.064\n"
     ]
    }
   ],
   "source": [
    "result(range(2, 8), backend,  algo_list =[\"bv\", \"dj\"], seed_transpiler=0)"
   ]
  },
  {
   "cell_type": "code",
   "execution_count": 5,
   "metadata": {},
   "outputs": [
    {
     "name": "stdout",
     "output_type": "stream",
     "text": [
      "Algorithm\t\t\tNumber of Qubits\n",
      "\t\t2\t3\t4\t5\t6\t7\n",
      "dj\t\t0.000\t0.000\t0.000\t0.000\t0.000\t0.000\n"
     ]
    }
   ],
   "source": [
    "result(range(2, 8), backend,  algo_list = [\"dj\"], seed_transpiler=0)"
   ]
  },
  {
   "cell_type": "code",
   "execution_count": 3,
   "metadata": {},
   "outputs": [
    {
     "name": "stdout",
     "output_type": "stream",
     "text": [
      "Algorithm\t\t\tNumber of Qubits\n",
      "\t\t1\t2\t3\t4\t5\t6\n",
      "gs\t\t0.000\t0.000\t0.000\t0.000\t0.000\t0.000\n"
     ]
    }
   ],
   "source": [
    "result(range(1, 7), backend, algo_list=[\"gs\"], seed_transpiler=0)"
   ]
  },
  {
   "cell_type": "code",
   "execution_count": null,
   "metadata": {},
   "outputs": [],
   "source": []
  }
 ],
 "metadata": {
  "kernelspec": {
   "display_name": "qiskit",
   "language": "python",
   "name": "python3"
  },
  "language_info": {
   "codemirror_mode": {
    "name": "ipython",
    "version": 3
   },
   "file_extension": ".py",
   "mimetype": "text/x-python",
   "name": "python",
   "nbconvert_exporter": "python",
   "pygments_lexer": "ipython3",
   "version": "3.10.0"
  },
  "orig_nbformat": 4
 },
 "nbformat": 4,
 "nbformat_minor": 2
}
