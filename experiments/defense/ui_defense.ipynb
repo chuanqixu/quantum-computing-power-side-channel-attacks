{
 "cells": [
  {
   "cell_type": "code",
   "execution_count": 1,
   "metadata": {},
   "outputs": [],
   "source": [
    "from qcutils.credential import load_provider\n",
    "from qcutils.benchmarks import QASMBenchmark\n",
    "from qcutils.pulse import CircAmpTimeSeries, BasisPulse\n",
    "from qcutils.pulse.amptimeseries.metric import dist, min_circ_dist_in_list\n",
    "\n",
    "from qiskit import QuantumCircuit, transpile, schedule, Aer\n",
    "from qiskit.quantum_info import Operator\n",
    "from qiskit.quantum_info import state_fidelity\n",
    "import qiskit.quantum_info as qi\n",
    "import numpy as np\n",
    "import matplotlib.pyplot as plt\n",
    "\n",
    "\n",
    "provider = load_provider()\n",
    "backend = provider.get_backend(\"ibm_lagos\")\n",
    "\n",
    "bm = QASMBenchmark(r\"E:\\Research\\QASMBench\", \"small\", num_qubits_list=list(range(8)), remove_final_measurements=True, do_transpile=True, backend=backend, seed_transpiler=0)"
   ]
  },
  {
   "cell_type": "code",
   "execution_count": null,
   "metadata": {},
   "outputs": [],
   "source": [
    "# save the current basis pulse library\n",
    "\n",
    "bp = BasisPulse(backend)\n",
    "bp.save_basis_amp_time_series_list(f\"./data/basis_pulse_{backend.configuration().backend_name}.pickle\")"
   ]
  },
  {
   "cell_type": "code",
   "execution_count": 2,
   "metadata": {},
   "outputs": [],
   "source": [
    "def max_energy(circ_dict):\n",
    "    max_e = 0\n",
    "    for circ_name, circ in circ_dict.items():\n",
    "        curr_e = np.sum(CircAmpTimeSeries.from_circ(circ, backend).total())\n",
    "        if max_e < curr_e:\n",
    "            max_e = curr_e\n",
    "    return max_e\n",
    "\n",
    "def min_mean_power(circ_dict):\n",
    "    min_mp = np.inf\n",
    "    for circ_name, circ in circ_dict.items():\n",
    "        curr_mp = np.mean(CircAmpTimeSeries.from_circ(circ, backend).total())\n",
    "        if min_mp > curr_mp:\n",
    "            min_mp = curr_mp\n",
    "    return min_mp\n",
    "\n",
    "def max_duration(circ_dict):\n",
    "    max_d = 0\n",
    "    for circ_name, circ in circ_dict.items():\n",
    "        curr_d = schedule(circ, backend).duration\n",
    "        if max_d < curr_d:\n",
    "            max_d = curr_d\n",
    "    return max_d"
   ]
  },
  {
   "cell_type": "code",
   "execution_count": 3,
   "metadata": {},
   "outputs": [],
   "source": [
    "def uniform_energy(circ_dict, precision = 1):\n",
    "    bp = BasisPulse(backend)\n",
    "    energy_dict = {}\n",
    "    for qubit in range(backend.configuration().n_qubits):\n",
    "        x_sched = bp.get_basis_gate_schedule(\"x\", qubit)\n",
    "        energy_dict[qubit] = 2 * np.sum(CircAmpTimeSeries.from_sched(x_sched, backend).total())\n",
    "    \n",
    "    def find_min_difference(numbers, target, precision = 1):\n",
    "        transformed_numbers = {}\n",
    "        for key, number in numbers.items():\n",
    "            transformed_numbers[key] = round(number * precision)\n",
    "        transformed_target = round(target * precision)\n",
    "\n",
    "        dp = [float('inf')] * (transformed_target + 1)\n",
    "        dp[0] = 0\n",
    "        for i in range(1, transformed_target + 1):\n",
    "            for num in transformed_numbers.values():\n",
    "                if num <= i:\n",
    "                    dp[i] = min(dp[i], dp[i - num] + 1)\n",
    "        result = {}\n",
    "        current_sum = transformed_target\n",
    "        for key, value in reversed(transformed_numbers.items()):\n",
    "            while current_sum >= value and dp[current_sum] == dp[current_sum - value] + 1:\n",
    "                if key in result:\n",
    "                    result[key] += 1\n",
    "                else:\n",
    "                    result[key] = 1\n",
    "                current_sum -= value\n",
    "        return result\n",
    "\n",
    "    max_e = max_energy(circ_dict)\n",
    "    uniformed_circ_dict = {}\n",
    "    for circ_name, circ in circ_dict.items():\n",
    "        circ = circ.copy()\n",
    "        sched = schedule(circ, backend)\n",
    "        curr_e = np.sum(CircAmpTimeSeries.from_sched(sched, backend).total())\n",
    "        if curr_e < max_e:\n",
    "            energy_diff = max_e - curr_e\n",
    "            chosen_gates = find_min_difference(energy_dict, energy_diff, precision = precision)\n",
    "            for qubit, num_gates in chosen_gates.items():\n",
    "                for _ in range(num_gates):\n",
    "                    circ.x(qubit)\n",
    "                    circ.x(qubit)\n",
    "            uniformed_circ_dict[circ_name] = circ\n",
    "        else:\n",
    "            uniformed_circ_dict[circ_name] = circ\n",
    "    return uniformed_circ_dict\n",
    "\n",
    "\n",
    "def uniform_mean_power(circ_dict):\n",
    "    min_mp = min_mean_power(circ_dict)\n",
    "    uniformed_circ_dict = {}\n",
    "\n",
    "    granularity = backend.configuration().timing_constraints['granularity']\n",
    "    for circ_name, circ in circ_dict.items():\n",
    "        circ = circ.copy()\n",
    "        sched = schedule(circ, backend)\n",
    "        energy = np.sum(CircAmpTimeSeries.from_sched(sched, backend).total())\n",
    "        curr_mp = energy / sched.duration\n",
    "        if curr_mp > min_mp:\n",
    "            duration = energy / min_mp\n",
    "            for ch in sched.channels:\n",
    "                if sched.ch_duration(ch) == sched.duration:\n",
    "                    if ch.prefix == 'd':\n",
    "                        circ.delay(round(int(duration - sched.duration) / granularity) * granularity, ch.index)\n",
    "                        uniformed_circ_dict[circ_name] = circ\n",
    "        else:\n",
    "            uniformed_circ_dict[circ_name] = circ\n",
    "    return uniformed_circ_dict\n",
    "\n",
    "\n",
    "def uniform_duration(circ_dict):\n",
    "    max_d = max_duration(circ_dict)\n",
    "    uniformed_circ_dict = {}\n",
    "    for circ_name, circ in circ_dict.items():\n",
    "        circ = circ.copy()\n",
    "        sched = schedule(circ, backend)\n",
    "        curr_d = sched.duration\n",
    "        if curr_d < max_d:\n",
    "            for ch in sched.channels:\n",
    "                if sched.ch_duration(ch) == curr_d:\n",
    "                    if ch.prefix == 'd':\n",
    "                        circ.delay(max_d - curr_d, ch.index)\n",
    "                        uniformed_circ_dict[circ_name] = circ\n",
    "        else:\n",
    "            uniformed_circ_dict[circ_name] = circ\n",
    "    return uniformed_circ_dict"
   ]
  },
  {
   "cell_type": "code",
   "execution_count": null,
   "metadata": {},
   "outputs": [],
   "source": [
    "circ_dict = {}\n",
    "power_time_series_dict = {}\n",
    "for circ_name, circ in bm.items():\n",
    "    try:\n",
    "        power_time_series_dict[circ_name] = CircAmpTimeSeries.from_circ(circ, backend).total()\n",
    "        circ_dict[circ_name] = circ\n",
    "    except:\n",
    "        continue\n",
    "\n",
    "energy_dict = {circ_name: np.sum(power_timeseries) for circ_name, power_timeseries in power_time_series_dict.items()}\n",
    "mean_power_dict = {circ_name: np.mean(power_timeseries) for circ_name, power_timeseries in power_time_series_dict.items()}\n",
    "duration_dict = {circ_name: len(power_timeseries) for circ_name, power_timeseries in power_time_series_dict.items()}\n",
    "\n",
    "defensed_energy_dict = {circ_name: np.sum(CircAmpTimeSeries.from_circ(circ, backend).total()) for circ_name, circ in uniform_energy(circ_dict, precision=100).items()}\n",
    "defensed_mean_power_dict = {circ_name: np.mean(CircAmpTimeSeries.from_circ(circ, backend).total()) for circ_name, circ in uniform_mean_power(circ_dict).items()}\n",
    "defensed_duration_dict = {circ_name: len(CircAmpTimeSeries.from_circ(circ, backend).total()) for circ_name, circ in uniform_duration(circ_dict).items()}"
   ]
  },
  {
   "cell_type": "code",
   "execution_count": 7,
   "metadata": {},
   "outputs": [],
   "source": [
    "def plot_bm_info(data_type, filepath = None):\n",
    "    if data_type == \"Energy\":\n",
    "        data = energy_dict\n",
    "        defensed_data = defensed_energy_dict\n",
    "    elif data_type == \"Mean Power\":\n",
    "        data = mean_power_dict\n",
    "        defensed_data = defensed_mean_power_dict\n",
    "    elif data_type == \"Duration\":\n",
    "        data = duration_dict\n",
    "        defensed_data = defensed_duration_dict\n",
    "\n",
    "    # import pandas as pd\n",
    "    # df = pd.DataFrame([data, defensed_data], index=['Original', 'Defensed']).transpose()\n",
    "\n",
    "    # fig, ax= plt.subplots(1,1, figsize=(6,5))\n",
    "\n",
    "    # df.plot.bar(ax=ax)\n",
    "    # ax.set_xlabel('YEAR')\n",
    "\n",
    "    # fig.tight_layout()\n",
    "\n",
    "    \n",
    "    plt.figure(figsize=(5, 3))\n",
    "    sx = np.arange(len(data.keys()))\n",
    "    displacement = 0.2\n",
    "    plt.bar(data.keys(), data.values(), width=-0.2, align='edge', label='Original')\n",
    "    plt.bar(defensed_data.keys(), defensed_data.values(), width=0.2, align='edge', label='Defensed')\n",
    "    plt.ylabel(data_type)\n",
    "    plt.xticks(rotation=90)\n",
    "    plt.legend()\n",
    "    plt.tight_layout()\n",
    "\n",
    "    if filepath:\n",
    "        plt.savefig(filepath)"
   ]
  },
  {
   "cell_type": "code",
   "execution_count": 6,
   "metadata": {},
   "outputs": [
    {
     "data": {
      "image/png": "[encoded data removed]",
      "text/plain": [
       "<Figure size 500x300 with 1 Axes>"
      ]
     },
     "metadata": {},
     "output_type": "display_data"
    }
   ],
   "source": [
    "# plot_bm_info(\"Energy\", filepath=r\"E:\\Research\\quantum-computing-power-side-channel-attacks\\paper\\figure\\bm_energy.pdf\")\n",
    "plot_bm_info(\"Energy\")"
   ]
  },
  {
   "cell_type": "code",
   "execution_count": 72,
   "metadata": {},
   "outputs": [
    {
     "name": "stdout",
     "output_type": "stream",
     "text": [
      "330095.83765162074\n"
     ]
    },
    {
     "ename": "KeyboardInterrupt",
     "evalue": "",
     "output_type": "error",
     "traceback": [
      "\u001b[1;31m---------------------------------------------------------------------------\u001b[0m",
      "\u001b[1;31mKeyboardInterrupt\u001b[0m                         Traceback (most recent call last)",
      "\u001b[1;32mh:\\其他计算机\\Alienware m15\\E\\Research\\quantum-computing-power-side-channel-attacks\\experiments\\defense\\ui_defense.ipynb Cell 8\u001b[0m in \u001b[0;36m<cell line: 9>\u001b[1;34m()\u001b[0m\n\u001b[0;32m      <a href='vscode-notebook-cell:/h%3A/%E5%85%B6%E4%BB%96%E8%AE%A1%E7%AE%97%E6%9C%BA/Alienware%20m15/E/Research/quantum-computing-power-side-channel-attacks/experiments/defense/ui_defense.ipynb#X20sZmlsZQ%3D%3D?line=5'>6</a>\u001b[0m     \u001b[39mexcept\u001b[39;00m:\n\u001b[0;32m      <a href='vscode-notebook-cell:/h%3A/%E5%85%B6%E4%BB%96%E8%AE%A1%E7%AE%97%E6%9C%BA/Alienware%20m15/E/Research/quantum-computing-power-side-channel-attacks/experiments/defense/ui_defense.ipynb#X20sZmlsZQ%3D%3D?line=6'>7</a>\u001b[0m         \u001b[39mpass\u001b[39;00m\n\u001b[1;32m----> <a href='vscode-notebook-cell:/h%3A/%E5%85%B6%E4%BB%96%E8%AE%A1%E7%AE%97%E6%9C%BA/Alienware%20m15/E/Research/quantum-computing-power-side-channel-attacks/experiments/defense/ui_defense.ipynb#X20sZmlsZQ%3D%3D?line=8'>9</a>\u001b[0m circ_dict \u001b[39m=\u001b[39m uniform_energy(circ_dict, precision\u001b[39m=\u001b[39;49m\u001b[39m100\u001b[39;49m)\n\u001b[0;32m     <a href='vscode-notebook-cell:/h%3A/%E5%85%B6%E4%BB%96%E8%AE%A1%E7%AE%97%E6%9C%BA/Alienware%20m15/E/Research/quantum-computing-power-side-channel-attacks/experiments/defense/ui_defense.ipynb#X20sZmlsZQ%3D%3D?line=10'>11</a>\u001b[0m \u001b[39mfor\u001b[39;00m circ_name, circ \u001b[39min\u001b[39;00m circ_dict\u001b[39m.\u001b[39mitems():\n\u001b[0;32m     <a href='vscode-notebook-cell:/h%3A/%E5%85%B6%E4%BB%96%E8%AE%A1%E7%AE%97%E6%9C%BA/Alienware%20m15/E/Research/quantum-computing-power-side-channel-attacks/experiments/defense/ui_defense.ipynb#X20sZmlsZQ%3D%3D?line=11'>12</a>\u001b[0m     \u001b[39mprint\u001b[39m(\u001b[39mf\u001b[39m\u001b[39m\"\u001b[39m\u001b[39m{\u001b[39;00mcirc_name\u001b[39m:\u001b[39;00m\u001b[39m24\u001b[39m\u001b[39m}\u001b[39;00m\u001b[39m{\u001b[39;00mnp\u001b[39m.\u001b[39msum(CircAmpTimeSeries\u001b[39m.\u001b[39mfrom_circ(circ, backend)\u001b[39m.\u001b[39mtotal())\u001b[39m}\u001b[39;00m\u001b[39m\"\u001b[39m)\n",
      "\u001b[1;32mh:\\其他计算机\\Alienware m15\\E\\Research\\quantum-computing-power-side-channel-attacks\\experiments\\defense\\ui_defense.ipynb Cell 8\u001b[0m in \u001b[0;36muniform_energy\u001b[1;34m(circ_dict, precision)\u001b[0m\n\u001b[0;32m     <a href='vscode-notebook-cell:/h%3A/%E5%85%B6%E4%BB%96%E8%AE%A1%E7%AE%97%E6%9C%BA/Alienware%20m15/E/Research/quantum-computing-power-side-channel-attacks/experiments/defense/ui_defense.ipynb#X20sZmlsZQ%3D%3D?line=37'>38</a>\u001b[0m \u001b[39mif\u001b[39;00m curr_e \u001b[39m<\u001b[39m max_e:\n\u001b[0;32m     <a href='vscode-notebook-cell:/h%3A/%E5%85%B6%E4%BB%96%E8%AE%A1%E7%AE%97%E6%9C%BA/Alienware%20m15/E/Research/quantum-computing-power-side-channel-attacks/experiments/defense/ui_defense.ipynb#X20sZmlsZQ%3D%3D?line=38'>39</a>\u001b[0m     energy_diff \u001b[39m=\u001b[39m max_e \u001b[39m-\u001b[39m curr_e\n\u001b[1;32m---> <a href='vscode-notebook-cell:/h%3A/%E5%85%B6%E4%BB%96%E8%AE%A1%E7%AE%97%E6%9C%BA/Alienware%20m15/E/Research/quantum-computing-power-side-channel-attacks/experiments/defense/ui_defense.ipynb#X20sZmlsZQ%3D%3D?line=39'>40</a>\u001b[0m     chosen_gates \u001b[39m=\u001b[39m find_min_difference(energy_dict, energy_diff, precision \u001b[39m=\u001b[39;49m precision)\n\u001b[0;32m     <a href='vscode-notebook-cell:/h%3A/%E5%85%B6%E4%BB%96%E8%AE%A1%E7%AE%97%E6%9C%BA/Alienware%20m15/E/Research/quantum-computing-power-side-channel-attacks/experiments/defense/ui_defense.ipynb#X20sZmlsZQ%3D%3D?line=40'>41</a>\u001b[0m     \u001b[39mfor\u001b[39;00m qubit, num_gates \u001b[39min\u001b[39;00m chosen_gates\u001b[39m.\u001b[39mitems():\n\u001b[0;32m     <a href='vscode-notebook-cell:/h%3A/%E5%85%B6%E4%BB%96%E8%AE%A1%E7%AE%97%E6%9C%BA/Alienware%20m15/E/Research/quantum-computing-power-side-channel-attacks/experiments/defense/ui_defense.ipynb#X20sZmlsZQ%3D%3D?line=41'>42</a>\u001b[0m         \u001b[39mfor\u001b[39;00m _ \u001b[39min\u001b[39;00m \u001b[39mrange\u001b[39m(num_gates):\n",
      "\u001b[1;32mh:\\其他计算机\\Alienware m15\\E\\Research\\quantum-computing-power-side-channel-attacks\\experiments\\defense\\ui_defense.ipynb Cell 8\u001b[0m in \u001b[0;36muniform_energy.<locals>.find_min_difference\u001b[1;34m(numbers, target, precision)\u001b[0m\n\u001b[0;32m     <a href='vscode-notebook-cell:/h%3A/%E5%85%B6%E4%BB%96%E8%AE%A1%E7%AE%97%E6%9C%BA/Alienware%20m15/E/Research/quantum-computing-power-side-channel-attacks/experiments/defense/ui_defense.ipynb#X20sZmlsZQ%3D%3D?line=16'>17</a>\u001b[0m     \u001b[39mfor\u001b[39;00m num \u001b[39min\u001b[39;00m transformed_numbers\u001b[39m.\u001b[39mvalues():\n\u001b[0;32m     <a href='vscode-notebook-cell:/h%3A/%E5%85%B6%E4%BB%96%E8%AE%A1%E7%AE%97%E6%9C%BA/Alienware%20m15/E/Research/quantum-computing-power-side-channel-attacks/experiments/defense/ui_defense.ipynb#X20sZmlsZQ%3D%3D?line=17'>18</a>\u001b[0m         \u001b[39mif\u001b[39;00m num \u001b[39m<\u001b[39m\u001b[39m=\u001b[39m i:\n\u001b[1;32m---> <a href='vscode-notebook-cell:/h%3A/%E5%85%B6%E4%BB%96%E8%AE%A1%E7%AE%97%E6%9C%BA/Alienware%20m15/E/Research/quantum-computing-power-side-channel-attacks/experiments/defense/ui_defense.ipynb#X20sZmlsZQ%3D%3D?line=18'>19</a>\u001b[0m             dp[i] \u001b[39m=\u001b[39m \u001b[39mmin\u001b[39m(dp[i], dp[i \u001b[39m-\u001b[39m num] \u001b[39m+\u001b[39m \u001b[39m1\u001b[39m)\n\u001b[0;32m     <a href='vscode-notebook-cell:/h%3A/%E5%85%B6%E4%BB%96%E8%AE%A1%E7%AE%97%E6%9C%BA/Alienware%20m15/E/Research/quantum-computing-power-side-channel-attacks/experiments/defense/ui_defense.ipynb#X20sZmlsZQ%3D%3D?line=19'>20</a>\u001b[0m result \u001b[39m=\u001b[39m {}\n\u001b[0;32m     <a href='vscode-notebook-cell:/h%3A/%E5%85%B6%E4%BB%96%E8%AE%A1%E7%AE%97%E6%9C%BA/Alienware%20m15/E/Research/quantum-computing-power-side-channel-attacks/experiments/defense/ui_defense.ipynb#X20sZmlsZQ%3D%3D?line=20'>21</a>\u001b[0m current_sum \u001b[39m=\u001b[39m transformed_target\n",
      "\u001b[1;31mKeyboardInterrupt\u001b[0m: "
     ]
    }
   ],
   "source": [
    "circ_dict = {}\n",
    "for circ_name, circ in bm.items():\n",
    "    try:\n",
    "        schedule(circ, backend)\n",
    "        circ_dict[circ_name] = circ\n",
    "    except:\n",
    "        pass\n",
    "\n",
    "circ_dict = uniform_energy(circ_dict, precision=100)\n",
    "\n",
    "for circ_name, circ in circ_dict.items():\n",
    "    print(f\"{circ_name:24}{np.sum(CircAmpTimeSeries.from_circ(circ, backend).total())}\")"
   ]
  },
  {
   "cell_type": "code",
   "execution_count": null,
   "metadata": {},
   "outputs": [
    {
     "name": "stdout",
     "output_type": "stream",
     "text": [
      "292.76257123610617, 0.09869419217814643\n",
      "2966.360682173269, 2912\n",
      "581.7585934548231, 0.09869419217814643\n",
      "5894.557527810033, 5664\n",
      "581.7585934548231, 0.09869419217814643\n",
      "5894.557527810033, 5664\n",
      "deutsch_n2              0.09890627406625209\n",
      "dnn_n2                  0.09869419217814643\n",
      "grover_n2               0.09880410894273488\n",
      "iswap_n2                0.09880410894273488\n"
     ]
    }
   ],
   "source": [
    "circ_dict = {}\n",
    "for circ_name, circ in bm.items():\n",
    "    try:\n",
    "        schedule(circ, backend)\n",
    "        circ_dict[circ_name] = circ\n",
    "    except:\n",
    "        pass\n",
    "\n",
    "circ_dict = uniform_mean_power(circ_dict)\n",
    "\n",
    "for circ_name, circ in circ_dict.items():\n",
    "    print(f\"{circ_name:24}{np.mean(CircAmpTimeSeries.from_circ(circ, backend).total())}\")"
   ]
  },
  {
   "cell_type": "code",
   "execution_count": 6,
   "metadata": {},
   "outputs": [
    {
     "name": "stdout",
     "output_type": "stream",
     "text": [
      "deutsch_n2              2121056\n",
      "dnn_n2                  2121056\n",
      "grover_n2               2121056\n",
      "iswap_n2                2121056\n",
      "quantumwalks_n2         2121056\n",
      "basis_change_n3         2121056\n",
      "fredkin_n3              2121056\n",
      "linearsolver_n3         2121056\n",
      "qaoa_n3                 2121056\n",
      "teleportation_n3        2121056\n",
      "toffoli_n3              2121056\n",
      "wstate_n3               2121056\n",
      "adder_n4                2121056\n",
      "basis_trotter_n4        2121056\n",
      "bell_n4                 2121056\n",
      "cat_state_n4            2121056\n",
      "hs4_n4                  2121056\n",
      "inverseqft_n4           2121056\n",
      "qft_n4                  2121056\n",
      "qrng_n4                 2121056\n",
      "variational_n4          2121056\n",
      "vqe_n4                  2121056\n",
      "vqe_uccsd_n4            2121056\n",
      "error_correctiond3_n5   2121056\n",
      "lpn_n5                  2121056\n",
      "pea_n5                  2121056\n",
      "qec_en_n5               2121056\n",
      "qec_sm_n5               2121056\n",
      "qaoa_n6                 2121056\n",
      "simon_n6                2121056\n",
      "vqe_uccsd_n6            2121056\n",
      "hhl_n7                  2121056\n"
     ]
    }
   ],
   "source": [
    "circ_dict = {}\n",
    "for circ_name, circ in bm.items():\n",
    "    try:\n",
    "        schedule(circ, backend)\n",
    "        circ_dict[circ_name] = circ\n",
    "    except:\n",
    "        pass\n",
    "\n",
    "circ_dict = uniform_duration(circ_dict)\n",
    "\n",
    "for circ_name, circ in circ_dict.items():\n",
    "    print(f\"{circ_name:24}{len(CircAmpTimeSeries.from_circ(circ, backend).total())}\")"
   ]
  },
  {
   "cell_type": "code",
   "execution_count": null,
   "metadata": {},
   "outputs": [],
   "source": []
  }
 ],
 "metadata": {
  "kernelspec": {
   "display_name": "qiskit",
   "language": "python",
   "name": "python3"
  },
  "language_info": {
   "codemirror_mode": {
    "name": "ipython",
    "version": 3
   },
   "file_extension": ".py",
   "mimetype": "text/x-python",
   "name": "python",
   "nbconvert_exporter": "python",
   "pygments_lexer": "ipython3",
   "version": "3.9.16"
  },
  "orig_nbformat": 4
 },
 "nbformat": 4,
 "nbformat_minor": 2
}
