{
 "cells": [
  {
   "cell_type": "code",
   "execution_count": 1,
   "metadata": {},
   "outputs": [],
   "source": [
    "from qcutils.credential import load_provider\n",
    "from qcutils.benchmarks import QASMBenchmark\n",
    "from qcutils.pulse import CircAmpTimeSeries, BasisPulse\n",
    "from qcutils.pulse.amptimeseries.metric import dist, min_circ_dist_in_list\n",
    "\n",
    "from qiskit import transpile, schedule\n",
    "\n",
    "\n",
    "provider = load_provider()\n",
    "backend = provider.get_backend(\"ibm_lagos\")\n",
    "\n",
    "bm = QASMBenchmark(r\"../../QASMBench\", \"small\", num_qubits_list=list(range(8)), remove_final_measurements=True, do_transpile=False)"
   ]
  },
  {
   "cell_type": "code",
   "execution_count": 2,
   "metadata": {},
   "outputs": [],
   "source": [
    "# save the current basis pulse library\n",
    "\n",
    "bp = BasisPulse(backend)\n",
    "bp.save_basis_amp_time_series_list(f\"./data/basis_pulse_{backend.configuration().backend_name}.pickle\")"
   ]
  },
  {
   "cell_type": "code",
   "execution_count": 3,
   "metadata": {},
   "outputs": [],
   "source": [
    "def circ_list(bm, circ_name, backend, num_layouts, seed_layout = None, **transpile_args):\n",
    "    import itertools, random\n",
    "\n",
    "    if seed_layout is not None:\n",
    "        random.seed(seed_layout)\n",
    "    \n",
    "    b_num_qubits = backend.configuration().n_qubits\n",
    "    num_qubits = bm.num_qubits(circ_name)\n",
    "\n",
    "    # randomly choose k items from all permutations\n",
    "    layout_list = list(itertools.permutations(range(b_num_qubits), num_qubits))\n",
    "    k = min(len(layout_list), num_layouts)\n",
    "    selected_layout = []\n",
    "    while len(selected_layout) < k:\n",
    "        item = random.choice(layout_list)\n",
    "        if item not in selected_layout:\n",
    "            selected_layout.append(list(item))\n",
    "    \n",
    "    transpiled_circ_list = [transpile(bm.get(circ_name), backend, initial_layout=initial_layout, **transpile_args) for initial_layout in selected_layout]\n",
    "    return transpiled_circ_list"
   ]
  },
  {
   "cell_type": "code",
   "execution_count": 4,
   "metadata": {},
   "outputs": [],
   "source": [
    "def result(bm, backend, num_layouts, seed_layout = None, **transpile_args):\n",
    "    print(\"Benchmark\\t\\tMin CD (QM)\\tMin IDX Pair\")\n",
    "\n",
    "    for circ_name in bm.circ_name_list:\n",
    "        try:\n",
    "            transpiled_circ_list = circ_list(bm, circ_name, backend, num_layouts=num_layouts, seed_layout=seed_layout, **transpile_args)\n",
    "            min_dist, min_idx_pair = min_circ_dist_in_list(transpiled_circ_list, backend, normalize=True)\n",
    "            print(f\"{circ_name:<24}{min_dist:.3f}\\t\\t{min_idx_pair}\")\n",
    "        except:\n",
    "            continue"
   ]
  },
  {
   "cell_type": "code",
   "execution_count": 5,
   "metadata": {},
   "outputs": [
    {
     "name": "stdout",
     "output_type": "stream",
     "text": [
      "Benchmark\t\tMin CD (QM)\tMin IDX Pair\n",
      "deutsch_n2              0.025\t\t(4, 3)\n",
      "dnn_n2                  0.039\t\t(4, 5)\n",
      "grover_n2               0.143\t\t(4, 5)\n",
      "iswap_n2                0.143\t\t(4, 5)\n",
      "quantumwalks_n2         0.125\t\t(4, 5)\n",
      "basis_change_n3         0.673\t\t(8, 6)\n",
      "fredkin_n3              0.800\t\t(2, 5)\n",
      "linearsolver_n3         0.735\t\t(7, 1)\n",
      "qaoa_n3                 0.546\t\t(6, 8)\n",
      "teleportation_n3        0.473\t\t(1, 7)\n",
      "toffoli_n3              0.096\t\t(7, 0)\n",
      "wstate_n3               0.789\t\t(6, 8)\n",
      "adder_n4                0.727\t\t(3, 4)\n",
      "basis_trotter_n4        0.895\t\t(2, 3)\n",
      "bell_n4                 0.781\t\t(3, 4)\n",
      "cat_state_n4            0.744\t\t(8, 6)\n",
      "hs4_n4                  0.545\t\t(6, 5)\n",
      "inverseqft_n4           0.000\t\t(7, 2)\n",
      "qft_n4                  0.817\t\t(5, 3)\n",
      "qrng_n4                 0.000\t\t(7, 2)\n",
      "variational_n4          0.792\t\t(6, 5)\n",
      "vqe_n4                  0.660\t\t(2, 9)\n",
      "vqe_uccsd_n4            0.858\t\t(0, 9)\n",
      "error_correctiond3_n5   0.855\t\t(2, 6)\n",
      "lpn_n5                  0.576\t\t(4, 1)\n",
      "pea_n5                  0.874\t\t(7, 8)\n",
      "qec_en_n5               0.746\t\t(4, 8)\n",
      "qec_sm_n5               0.573\t\t(4, 1)\n",
      "qaoa_n6                 0.869\t\t(0, 6)\n",
      "simon_n6                0.796\t\t(6, 5)\n",
      "vqe_uccsd_n6            0.906\t\t(7, 8)\n",
      "hhl_n7                  0.873\t\t(0, 9)\n"
     ]
    }
   ],
   "source": [
    "result(bm, backend, 10, seed_layout=0, seed_transpiler=0)"
   ]
  },
  {
   "cell_type": "code",
   "execution_count": null,
   "metadata": {},
   "outputs": [],
   "source": []
  }
 ],
 "metadata": {
  "kernelspec": {
   "display_name": "qiskit",
   "language": "python",
   "name": "python3"
  },
  "language_info": {
   "codemirror_mode": {
    "name": "ipython",
    "version": 3
   },
   "file_extension": ".py",
   "mimetype": "text/x-python",
   "name": "python",
   "nbconvert_exporter": "python",
   "pygments_lexer": "ipython3",
   "version": "3.10.0"
  },
  "orig_nbformat": 4
 },
 "nbformat": 4,
 "nbformat_minor": 2
}
