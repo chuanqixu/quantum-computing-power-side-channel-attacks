{
 "cells": [
  {
   "cell_type": "code",
   "execution_count": 1,
   "metadata": {},
   "outputs": [],
   "source": [
    "from qcutils.credential import load_provider\n",
    "from qcutils.benchmarks import QASMBenchmark\n",
    "import matplotlib.pyplot as plt\n",
    "import numpy as np\n",
    "\n",
    "provider = load_provider()\n",
    "backend = provider.get_backend(\"ibm_lagos\")\n",
    "\n",
    "bm = QASMBenchmark(r\"E:\\Research\\QASMBench\", \"small\", num_qubits_list=list(range(8)), remove_final_measurements=True, do_transpile=True, backend=backend, seed_transpiler=0)"
   ]
  },
  {
   "cell_type": "code",
   "execution_count": 2,
   "metadata": {},
   "outputs": [
    {
     "name": "stdout",
     "output_type": "stream",
     "text": [
      "Index\tCircuit Name\t\tQubits\tGates\tCX\n",
      "0\tdeutsch_n2              2\t10\t1\n",
      "1\tdnn_n2                  2\t306\t42\n",
      "2\tgrover_n2               2\t15\t2\n",
      "3\tipea_n2                 2\t101\t30\n",
      "4\tiswap_n2                2\t14\t2\n",
      "5\tquantumwalks_n2         2\t38\t3\n",
      "6\tbasis_change_n3         3\t85\t10\n",
      "7\tfredkin_n3              3\t31\t17\n",
      "8\tlinearsolver_n3         3\t26\t4\n",
      "9\tqaoa_n3                 3\t35\t9\n",
      "10\tteleportation_n3        3\t12\t2\n",
      "11\ttoffoli_n3              3\t24\t9\n",
      "12\twstate_n3               3\t47\t21\n",
      "13\tadder_n4                4\t33\t16\n",
      "14\tbasis_trotter_n4        4\t2353\t582\n",
      "15\tbell_n4                 4\t53\t7\n",
      "16\tcat_state_n4            4\t6\t3\n",
      "17\ths4_n4                  4\t28\t4\n",
      "18\tinverseqft_n4           4\t30\t0\n",
      "19\tqft_n4                  4\t50\t18\n",
      "20\tqrng_n4                 4\t12\t0\n",
      "21\tvariational_n4          4\t58\t16\n",
      "22\tvqe_n4                  4\t73\t9\n",
      "23\tvqe_uccsd_n4            4\t238\t88\n",
      "24\terror_correctiond3_n5   5\t249\t61\n",
      "25\tlpn_n5                  5\t17\t2\n",
      "26\tpea_n5                  5\t126\t57\n",
      "27\tqec_en_n5               5\t52\t16\n",
      "28\tqec_sm_n5               5\t8\t4\n",
      "29\tshor_n5                 5\t108\t51\n",
      "30\tqaoa_n6                 6\t408\t84\n",
      "31\tsimon_n6                6\t65\t23\n",
      "32\tvqe_uccsd_n6            6\t2289\t1199\n",
      "33\thhl_n7                  7\t1092\t298\n",
      "\n"
     ]
    }
   ],
   "source": [
    "print(bm)"
   ]
  },
  {
   "cell_type": "code",
   "execution_count": null,
   "metadata": {},
   "outputs": [],
   "source": []
  }
 ],
 "metadata": {
  "kernelspec": {
   "display_name": "qiskit",
   "language": "python",
   "name": "python3"
  },
  "language_info": {
   "codemirror_mode": {
    "name": "ipython",
    "version": 3
   },
   "file_extension": ".py",
   "mimetype": "text/x-python",
   "name": "python",
   "nbconvert_exporter": "python",
   "pygments_lexer": "ipython3",
   "version": "3.10.0"
  },
  "orig_nbformat": 4
 },
 "nbformat": 4,
 "nbformat_minor": 2
}
