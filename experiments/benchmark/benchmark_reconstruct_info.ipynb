{
 "cells": [
  {
   "cell_type": "code",
   "execution_count": 1,
   "metadata": {},
   "outputs": [],
   "source": [
    "from qcutils.credential import load_provider\n",
    "from qcutils.benchmarks import QASMBenchmark\n",
    "from qcutils.pulse import CircAmpTimeSeries\n",
    "\n",
    "import matplotlib.pyplot as plt\n",
    "import numpy as np\n",
    "\n",
    "provider = load_provider()\n",
    "backend = provider.get_backend(\"ibm_lagos\")\n",
    "\n",
    "bm = QASMBenchmark(r\"E:\\Research\\QASMBench\", \"small\", num_qubits_list=list(range(8)), remove_final_measurements=True, do_transpile=True, backend=backend, seed_transpiler=0)"
   ]
  },
  {
   "cell_type": "code",
   "execution_count": 2,
   "metadata": {},
   "outputs": [
    {
     "name": "stdout",
     "output_type": "stream",
     "text": [
      "Index\tCircuit Name\t\tQubits\tGates\tRZ\tReal Gate\tPercent\n",
      "\n",
      "0\tdeutsch_n2              2\t10\t6\t4               0.4\n",
      "\n",
      "1\tdnn_n2                  2\t306\t164\t142             0.46405228758169936\n",
      "\n",
      "2\tgrover_n2               2\t15\t9\t6               0.4\n",
      "\n",
      "3\tipea_n2                 2\t101\t57\t44              0.43564356435643564\n",
      "\n",
      "4\tiswap_n2                2\t14\t8\t6               0.42857142857142855\n",
      "\n",
      "5\tquantumwalks_n2         2\t38\t20\t18              0.47368421052631576\n",
      "\n",
      "6\tbasis_change_n3         3\t85\t43\t42              0.49411764705882355\n",
      "\n",
      "7\tfredkin_n3              3\t31\t10\t21              0.6774193548387096\n",
      "\n",
      "8\tlinearsolver_n3         3\t26\t13\t13              0.5\n",
      "\n",
      "9\tqaoa_n3                 3\t35\t17\t18              0.5142857142857142\n",
      "\n",
      "10\tteleportation_n3        3\t12\t6\t6               0.5\n",
      "\n",
      "11\ttoffoli_n3              3\t24\t11\t13              0.5416666666666666\n",
      "\n",
      "12\twstate_n3               3\t47\t17\t30              0.6382978723404256\n",
      "\n",
      "13\tadder_n4                4\t33\t13\t20              0.6060606060606061\n",
      "\n",
      "14\tbasis_trotter_n4        4\t2353\t1219\t1134            0.4819379515512112\n",
      "\n",
      "15\tbell_n4                 4\t53\t29\t24              0.4528301886792453\n",
      "\n",
      "16\tcat_state_n4            4\t6\t2\t4               0.6666666666666666\n",
      "\n",
      "17\ths4_n4                  4\t28\t16\t12              0.42857142857142855\n",
      "\n",
      "18\tinverseqft_n4           4\t30\t22\t8               0.26666666666666666\n",
      "\n",
      "19\tqft_n4                  4\t50\t26\t24              0.48\n",
      "\n",
      "20\tqrng_n4                 4\t12\t8\t4               0.3333333333333333\n",
      "\n",
      "21\tvariational_n4          4\t58\t32\t26              0.4482758620689655\n",
      "\n",
      "22\tvqe_n4                  4\t73\t32\t41              0.5616438356164384\n",
      "\n",
      "23\tvqe_uccsd_n4            4\t238\t104\t134             0.5630252100840336\n",
      "\n",
      "24\terror_correctiond3_n5   5\t249\t126\t123             0.4939759036144578\n",
      "\n",
      "25\tlpn_n5                  5\t17\t10\t7               0.4117647058823529\n",
      "\n",
      "26\tpea_n5                  5\t126\t61\t65              0.5158730158730159\n",
      "\n",
      "27\tqec_en_n5               5\t52\t24\t28              0.5384615384615384\n",
      "\n",
      "28\tqec_sm_n5               5\t8\t0\t8               1.0\n",
      "\n",
      "29\tshor_n5                 5\t108\t42\t66              0.6111111111111112\n",
      "\n",
      "30\tqaoa_n6                 6\t408\t196\t212             0.5196078431372549\n",
      "\n",
      "31\tsimon_n6                6\t65\t29\t36              0.5538461538461539\n",
      "\n",
      "32\tvqe_uccsd_n6            6\t2289\t769\t1520            0.6640454346876365\n",
      "\n",
      "33\thhl_n7                  7\t1092\t461\t631             0.5778388278388278\n",
      "\n"
     ]
    }
   ],
   "source": [
    "print(\"Index\\tCircuit Name\\t\\tQubits\\tGates\\tRZ\\tReal Gate\\tPercent\\n\")\n",
    "for i, circ_name in enumerate(bm.circ_name_list):\n",
    "    num_gates = bm.num_gates(circ_name)\n",
    "    num_rz = bm.num_gates(circ_name, instruction='rz')\n",
    "    num_real_gates = num_gates - num_rz\n",
    "    print(f\"{i}\\t{circ_name:<24}{bm.num_qubits(circ_name)}\\t{num_gates}\\t{num_rz}\\t{num_real_gates:<16}{num_real_gates/num_gates}\\n\")"
   ]
  },
  {
   "cell_type": "code",
   "execution_count": null,
   "metadata": {},
   "outputs": [],
   "source": []
  }
 ],
 "metadata": {
  "kernelspec": {
   "display_name": "qiskit",
   "language": "python",
   "name": "python3"
  },
  "language_info": {
   "codemirror_mode": {
    "name": "ipython",
    "version": 3
   },
   "file_extension": ".py",
   "mimetype": "text/x-python",
   "name": "python",
   "nbconvert_exporter": "python",
   "pygments_lexer": "ipython3",
   "version": "3.10.0"
  },
  "orig_nbformat": 4
 },
 "nbformat": 4,
 "nbformat_minor": 2
}
